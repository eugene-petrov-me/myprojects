{
 "cells": [
  {
   "cell_type": "markdown",
   "id": "ff9b96bb",
   "metadata": {},
   "source": [
    "## Setup\n",
    "\n",
    "Importing relevant modules, connecting to a database and creating a cursor"
   ]
  },
  {
   "cell_type": "code",
   "execution_count": 163,
   "id": "99542bf2",
   "metadata": {},
   "outputs": [],
   "source": [
    "import sqlite3\n",
    "import pandas as pd\n",
    "import json"
   ]
  },
  {
   "cell_type": "code",
   "execution_count": 96,
   "id": "564e688c",
   "metadata": {},
   "outputs": [],
   "source": [
    "con = sqlite3.connect(\"dev/cademycode.db\")\n",
    "cur = con.cursor()"
   ]
  },
  {
   "cell_type": "markdown",
   "id": "86e2da47",
   "metadata": {},
   "source": [
    "## Inspect and Clean the data\n",
    "\n",
    "Import the tables in cademycode.db as dataframes. Inspect the tables for missing or invalid data and perform any data cleaning operations you think are necessary."
   ]
  },
  {
   "cell_type": "code",
   "execution_count": 140,
   "id": "a41730f6",
   "metadata": {},
   "outputs": [
    {
     "data": {
      "text/plain": [
       "[('cademycode_students',\n",
       "  'CREATE TABLE cademycode_students (\\n\\tuuid INTEGER, \\n\\tname VARCHAR, \\n\\tdob VARCHAR, \\n\\tsex TEXT, \\n\\tcontact_info JSON, \\n\\tjob_id VARCHAR, \\n\\tnum_course_taken VARCHAR, \\n\\tcurrent_career_path_id VARCHAR, \\n\\ttime_spent_hrs VARCHAR\\n)'),\n",
       " ('cademycode_courses',\n",
       "  'CREATE TABLE cademycode_courses (\\n\\tcareer_path_id BIGINT, \\n\\tcareer_path_name TEXT, \\n\\thours_to_complete BIGINT\\n)'),\n",
       " ('cademycode_student_jobs',\n",
       "  'CREATE TABLE cademycode_student_jobs (\\n\\tjob_id BIGINT, \\n\\tjob_category TEXT, \\n\\tavg_salary BIGINT\\n)')]"
      ]
     },
     "execution_count": 140,
     "metadata": {},
     "output_type": "execute_result"
    }
   ],
   "source": [
    "schema_query = cur.execute(\"\"\"SELECT name, sql FROM sqlite_master\"\"\")\n",
    "\n",
    "# type text,\n",
    "# name text,\n",
    "# tbl_name text,\n",
    "# rootpage integer,\n",
    "# sql text\n",
    "\n",
    "schema_query.fetchall()"
   ]
  },
  {
   "cell_type": "markdown",
   "id": "baebbbe3",
   "metadata": {},
   "source": [
    "###  Import and explore 'cademycode_students' table"
   ]
  },
  {
   "cell_type": "code",
   "execution_count": 201,
   "id": "16b3bc6c",
   "metadata": {},
   "outputs": [],
   "source": [
    "students_query = \"\"\"SELECT * FROM cademycode_students\"\"\"\n",
    "df_students = pd.read_sql_query(students_query, con)"
   ]
  },
  {
   "cell_type": "code",
   "execution_count": 202,
   "id": "436a023a",
   "metadata": {},
   "outputs": [
    {
     "name": "stdout",
     "output_type": "stream",
     "text": [
      "\n",
      "Students DF Shape\n"
     ]
    },
    {
     "data": {
      "text/plain": [
       "(5000, 9)"
      ]
     },
     "execution_count": 202,
     "metadata": {},
     "output_type": "execute_result"
    }
   ],
   "source": [
    "print(\"\\nStudents DF Shape\")\n",
    "df_students.shape"
   ]
  },
  {
   "cell_type": "code",
   "execution_count": 203,
   "id": "50571b1b",
   "metadata": {
    "scrolled": false
   },
   "outputs": [
    {
     "name": "stdout",
     "output_type": "stream",
     "text": [
      "Students DF info\n",
      "<class 'pandas.core.frame.DataFrame'>\n",
      "RangeIndex: 5000 entries, 0 to 4999\n",
      "Data columns (total 9 columns):\n",
      " #   Column                  Non-Null Count  Dtype \n",
      "---  ------                  --------------  ----- \n",
      " 0   uuid                    5000 non-null   int64 \n",
      " 1   name                    5000 non-null   object\n",
      " 2   dob                     5000 non-null   object\n",
      " 3   sex                     5000 non-null   object\n",
      " 4   contact_info            5000 non-null   object\n",
      " 5   job_id                  4995 non-null   object\n",
      " 6   num_course_taken        4749 non-null   object\n",
      " 7   current_career_path_id  4529 non-null   object\n",
      " 8   time_spent_hrs          4529 non-null   object\n",
      "dtypes: int64(1), object(8)\n",
      "memory usage: 351.7+ KB\n",
      "\n",
      "Students DF first 10 rows\n"
     ]
    },
    {
     "data": {
      "text/html": [
       "<div>\n",
       "<style scoped>\n",
       "    .dataframe tbody tr th:only-of-type {\n",
       "        vertical-align: middle;\n",
       "    }\n",
       "\n",
       "    .dataframe tbody tr th {\n",
       "        vertical-align: top;\n",
       "    }\n",
       "\n",
       "    .dataframe thead th {\n",
       "        text-align: right;\n",
       "    }\n",
       "</style>\n",
       "<table border=\"1\" class=\"dataframe\">\n",
       "  <thead>\n",
       "    <tr style=\"text-align: right;\">\n",
       "      <th></th>\n",
       "      <th>uuid</th>\n",
       "      <th>name</th>\n",
       "      <th>dob</th>\n",
       "      <th>sex</th>\n",
       "      <th>contact_info</th>\n",
       "      <th>job_id</th>\n",
       "      <th>num_course_taken</th>\n",
       "      <th>current_career_path_id</th>\n",
       "      <th>time_spent_hrs</th>\n",
       "    </tr>\n",
       "  </thead>\n",
       "  <tbody>\n",
       "    <tr>\n",
       "      <th>0</th>\n",
       "      <td>1</td>\n",
       "      <td>Annabelle Avery</td>\n",
       "      <td>1943-07-03</td>\n",
       "      <td>F</td>\n",
       "      <td>{\"mailing_address\": \"303 N Timber Key, Irondal...</td>\n",
       "      <td>7.0</td>\n",
       "      <td>6.0</td>\n",
       "      <td>1.0</td>\n",
       "      <td>4.99</td>\n",
       "    </tr>\n",
       "    <tr>\n",
       "      <th>1</th>\n",
       "      <td>2</td>\n",
       "      <td>Micah Rubio</td>\n",
       "      <td>1991-02-07</td>\n",
       "      <td>M</td>\n",
       "      <td>{\"mailing_address\": \"767 Crescent Fair, Shoals...</td>\n",
       "      <td>7.0</td>\n",
       "      <td>5.0</td>\n",
       "      <td>8.0</td>\n",
       "      <td>4.4</td>\n",
       "    </tr>\n",
       "    <tr>\n",
       "      <th>2</th>\n",
       "      <td>3</td>\n",
       "      <td>Hosea Dale</td>\n",
       "      <td>1989-12-07</td>\n",
       "      <td>M</td>\n",
       "      <td>{\"mailing_address\": \"P.O. Box 41269, St. Bonav...</td>\n",
       "      <td>7.0</td>\n",
       "      <td>8.0</td>\n",
       "      <td>8.0</td>\n",
       "      <td>6.74</td>\n",
       "    </tr>\n",
       "    <tr>\n",
       "      <th>3</th>\n",
       "      <td>4</td>\n",
       "      <td>Mariann Kirk</td>\n",
       "      <td>1988-07-31</td>\n",
       "      <td>F</td>\n",
       "      <td>{\"mailing_address\": \"517 SE Wintergreen Isle, ...</td>\n",
       "      <td>6.0</td>\n",
       "      <td>7.0</td>\n",
       "      <td>9.0</td>\n",
       "      <td>12.31</td>\n",
       "    </tr>\n",
       "    <tr>\n",
       "      <th>4</th>\n",
       "      <td>5</td>\n",
       "      <td>Lucio Alexander</td>\n",
       "      <td>1963-08-31</td>\n",
       "      <td>M</td>\n",
       "      <td>{\"mailing_address\": \"18 Cinder Cliff, Doyles b...</td>\n",
       "      <td>7.0</td>\n",
       "      <td>14.0</td>\n",
       "      <td>3.0</td>\n",
       "      <td>5.64</td>\n",
       "    </tr>\n",
       "    <tr>\n",
       "      <th>5</th>\n",
       "      <td>6</td>\n",
       "      <td>Shavonda Mcmahon</td>\n",
       "      <td>1989-10-15</td>\n",
       "      <td>F</td>\n",
       "      <td>{\"mailing_address\": \"P.O. Box 81591, Tarpon Sp...</td>\n",
       "      <td>6.0</td>\n",
       "      <td>10.0</td>\n",
       "      <td>3.0</td>\n",
       "      <td>10.12</td>\n",
       "    </tr>\n",
       "    <tr>\n",
       "      <th>6</th>\n",
       "      <td>7</td>\n",
       "      <td>Terrell Bleijenberg</td>\n",
       "      <td>1959-05-05</td>\n",
       "      <td>M</td>\n",
       "      <td>{\"mailing_address\": \"P.O. Box 53471, Oskaloosa...</td>\n",
       "      <td>2.0</td>\n",
       "      <td>9.0</td>\n",
       "      <td>8.0</td>\n",
       "      <td>24.17</td>\n",
       "    </tr>\n",
       "    <tr>\n",
       "      <th>7</th>\n",
       "      <td>8</td>\n",
       "      <td>Stanford Allan</td>\n",
       "      <td>1997-11-22</td>\n",
       "      <td>M</td>\n",
       "      <td>{\"mailing_address\": \"255 Spring Avenue, Point ...</td>\n",
       "      <td>3.0</td>\n",
       "      <td>3.0</td>\n",
       "      <td>1.0</td>\n",
       "      <td>19.54</td>\n",
       "    </tr>\n",
       "    <tr>\n",
       "      <th>8</th>\n",
       "      <td>9</td>\n",
       "      <td>Tricia Delacruz</td>\n",
       "      <td>1961-10-20</td>\n",
       "      <td>F</td>\n",
       "      <td>{\"mailing_address\": \"997 Dewy Apple, Lake Lind...</td>\n",
       "      <td>1.0</td>\n",
       "      <td>6.0</td>\n",
       "      <td>9.0</td>\n",
       "      <td>1.75</td>\n",
       "    </tr>\n",
       "    <tr>\n",
       "      <th>9</th>\n",
       "      <td>10</td>\n",
       "      <td>Regenia van der Helm</td>\n",
       "      <td>1999-02-23</td>\n",
       "      <td>N</td>\n",
       "      <td>{\"mailing_address\": \"220 Middle Ridge, Falcon ...</td>\n",
       "      <td>5.0</td>\n",
       "      <td>7.0</td>\n",
       "      <td>6.0</td>\n",
       "      <td>13.55</td>\n",
       "    </tr>\n",
       "  </tbody>\n",
       "</table>\n",
       "</div>"
      ],
      "text/plain": [
       "   uuid                  name         dob sex  \\\n",
       "0     1       Annabelle Avery  1943-07-03   F   \n",
       "1     2           Micah Rubio  1991-02-07   M   \n",
       "2     3            Hosea Dale  1989-12-07   M   \n",
       "3     4          Mariann Kirk  1988-07-31   F   \n",
       "4     5       Lucio Alexander  1963-08-31   M   \n",
       "5     6      Shavonda Mcmahon  1989-10-15   F   \n",
       "6     7   Terrell Bleijenberg  1959-05-05   M   \n",
       "7     8        Stanford Allan  1997-11-22   M   \n",
       "8     9       Tricia Delacruz  1961-10-20   F   \n",
       "9    10  Regenia van der Helm  1999-02-23   N   \n",
       "\n",
       "                                        contact_info job_id num_course_taken  \\\n",
       "0  {\"mailing_address\": \"303 N Timber Key, Irondal...    7.0              6.0   \n",
       "1  {\"mailing_address\": \"767 Crescent Fair, Shoals...    7.0              5.0   \n",
       "2  {\"mailing_address\": \"P.O. Box 41269, St. Bonav...    7.0              8.0   \n",
       "3  {\"mailing_address\": \"517 SE Wintergreen Isle, ...    6.0              7.0   \n",
       "4  {\"mailing_address\": \"18 Cinder Cliff, Doyles b...    7.0             14.0   \n",
       "5  {\"mailing_address\": \"P.O. Box 81591, Tarpon Sp...    6.0             10.0   \n",
       "6  {\"mailing_address\": \"P.O. Box 53471, Oskaloosa...    2.0              9.0   \n",
       "7  {\"mailing_address\": \"255 Spring Avenue, Point ...    3.0              3.0   \n",
       "8  {\"mailing_address\": \"997 Dewy Apple, Lake Lind...    1.0              6.0   \n",
       "9  {\"mailing_address\": \"220 Middle Ridge, Falcon ...    5.0              7.0   \n",
       "\n",
       "  current_career_path_id time_spent_hrs  \n",
       "0                    1.0           4.99  \n",
       "1                    8.0            4.4  \n",
       "2                    8.0           6.74  \n",
       "3                    9.0          12.31  \n",
       "4                    3.0           5.64  \n",
       "5                    3.0          10.12  \n",
       "6                    8.0          24.17  \n",
       "7                    1.0          19.54  \n",
       "8                    9.0           1.75  \n",
       "9                    6.0          13.55  "
      ]
     },
     "execution_count": 203,
     "metadata": {},
     "output_type": "execute_result"
    }
   ],
   "source": [
    "print(\"Students DF info\")\n",
    "df_students.info()\n",
    "\n",
    "print(\"\\nStudents DF first 10 rows\")\n",
    "df_students.head(10)"
   ]
  },
  {
   "cell_type": "code",
   "execution_count": 204,
   "id": "bf295318",
   "metadata": {},
   "outputs": [],
   "source": [
    "df_students['mailing_address'] = df_students['contact_info'].apply(lambda x: json.loads(x).get('mailing_address', None))"
   ]
  },
  {
   "cell_type": "code",
   "execution_count": 205,
   "id": "259a2b5f",
   "metadata": {},
   "outputs": [],
   "source": [
    "df_students['email'] = df_students['contact_info'].apply(lambda x: json.loads(x).get('email', None))"
   ]
  },
  {
   "cell_type": "code",
   "execution_count": 206,
   "id": "ec5985a8",
   "metadata": {},
   "outputs": [],
   "source": [
    "df_students = df_students.drop(columns= {'contact_info'})"
   ]
  },
  {
   "cell_type": "code",
   "execution_count": 224,
   "id": "8702d0d3",
   "metadata": {},
   "outputs": [],
   "source": [
    "# reorder colums logically\n",
    "df_students = df_students[[\"uuid\", \"name\", \"dob\", \"sex\", \"mailing_address\", \"email\", \"job_id\", \"num_course_taken\", \"current_career_path_id\", \"time_spent_hrs\"]]"
   ]
  },
  {
   "cell_type": "code",
   "execution_count": 225,
   "id": "2d37a6f4",
   "metadata": {},
   "outputs": [
    {
     "data": {
      "text/html": [
       "<div>\n",
       "<style scoped>\n",
       "    .dataframe tbody tr th:only-of-type {\n",
       "        vertical-align: middle;\n",
       "    }\n",
       "\n",
       "    .dataframe tbody tr th {\n",
       "        vertical-align: top;\n",
       "    }\n",
       "\n",
       "    .dataframe thead th {\n",
       "        text-align: right;\n",
       "    }\n",
       "</style>\n",
       "<table border=\"1\" class=\"dataframe\">\n",
       "  <thead>\n",
       "    <tr style=\"text-align: right;\">\n",
       "      <th></th>\n",
       "      <th>uuid</th>\n",
       "      <th>name</th>\n",
       "      <th>dob</th>\n",
       "      <th>sex</th>\n",
       "      <th>mailing_address</th>\n",
       "      <th>email</th>\n",
       "      <th>job_id</th>\n",
       "      <th>num_course_taken</th>\n",
       "      <th>current_career_path_id</th>\n",
       "      <th>time_spent_hrs</th>\n",
       "    </tr>\n",
       "  </thead>\n",
       "  <tbody>\n",
       "    <tr>\n",
       "      <th>0</th>\n",
       "      <td>1</td>\n",
       "      <td>Annabelle Avery</td>\n",
       "      <td>1943-07-03</td>\n",
       "      <td>F</td>\n",
       "      <td>303 N Timber Key, Irondale, Wisconsin, 84736</td>\n",
       "      <td>annabelle_avery9376@woohoo.com</td>\n",
       "      <td>7</td>\n",
       "      <td>6</td>\n",
       "      <td>1</td>\n",
       "      <td>4.99</td>\n",
       "    </tr>\n",
       "    <tr>\n",
       "      <th>1</th>\n",
       "      <td>2</td>\n",
       "      <td>Micah Rubio</td>\n",
       "      <td>1991-02-07</td>\n",
       "      <td>M</td>\n",
       "      <td>767 Crescent Fair, Shoals, Indiana, 37439</td>\n",
       "      <td>rubio6772@hmail.com</td>\n",
       "      <td>7</td>\n",
       "      <td>5</td>\n",
       "      <td>8</td>\n",
       "      <td>4.40</td>\n",
       "    </tr>\n",
       "    <tr>\n",
       "      <th>2</th>\n",
       "      <td>3</td>\n",
       "      <td>Hosea Dale</td>\n",
       "      <td>1989-12-07</td>\n",
       "      <td>M</td>\n",
       "      <td>P.O. Box 41269, St. Bonaventure, Virginia, 83637</td>\n",
       "      <td>hosea_dale8084@coldmail.com</td>\n",
       "      <td>7</td>\n",
       "      <td>8</td>\n",
       "      <td>8</td>\n",
       "      <td>6.74</td>\n",
       "    </tr>\n",
       "    <tr>\n",
       "      <th>3</th>\n",
       "      <td>4</td>\n",
       "      <td>Mariann Kirk</td>\n",
       "      <td>1988-07-31</td>\n",
       "      <td>F</td>\n",
       "      <td>517 SE Wintergreen Isle, Lane, Arkansas, 82242</td>\n",
       "      <td>kirk4005@hmail.com</td>\n",
       "      <td>6</td>\n",
       "      <td>7</td>\n",
       "      <td>9</td>\n",
       "      <td>12.31</td>\n",
       "    </tr>\n",
       "    <tr>\n",
       "      <th>4</th>\n",
       "      <td>5</td>\n",
       "      <td>Lucio Alexander</td>\n",
       "      <td>1963-08-31</td>\n",
       "      <td>M</td>\n",
       "      <td>18 Cinder Cliff, Doyles borough, Rhode Island,...</td>\n",
       "      <td>alexander9810@hmail.com</td>\n",
       "      <td>7</td>\n",
       "      <td>14</td>\n",
       "      <td>3</td>\n",
       "      <td>5.64</td>\n",
       "    </tr>\n",
       "  </tbody>\n",
       "</table>\n",
       "</div>"
      ],
      "text/plain": [
       "   uuid             name         dob sex  \\\n",
       "0     1  Annabelle Avery  1943-07-03   F   \n",
       "1     2      Micah Rubio  1991-02-07   M   \n",
       "2     3       Hosea Dale  1989-12-07   M   \n",
       "3     4     Mariann Kirk  1988-07-31   F   \n",
       "4     5  Lucio Alexander  1963-08-31   M   \n",
       "\n",
       "                                     mailing_address  \\\n",
       "0       303 N Timber Key, Irondale, Wisconsin, 84736   \n",
       "1          767 Crescent Fair, Shoals, Indiana, 37439   \n",
       "2   P.O. Box 41269, St. Bonaventure, Virginia, 83637   \n",
       "3     517 SE Wintergreen Isle, Lane, Arkansas, 82242   \n",
       "4  18 Cinder Cliff, Doyles borough, Rhode Island,...   \n",
       "\n",
       "                            email  job_id  num_course_taken  \\\n",
       "0  annabelle_avery9376@woohoo.com       7                 6   \n",
       "1             rubio6772@hmail.com       7                 5   \n",
       "2     hosea_dale8084@coldmail.com       7                 8   \n",
       "3              kirk4005@hmail.com       6                 7   \n",
       "4         alexander9810@hmail.com       7                14   \n",
       "\n",
       "   current_career_path_id  time_spent_hrs  \n",
       "0                       1            4.99  \n",
       "1                       8            4.40  \n",
       "2                       8            6.74  \n",
       "3                       9           12.31  \n",
       "4                       3            5.64  "
      ]
     },
     "execution_count": 225,
     "metadata": {},
     "output_type": "execute_result"
    }
   ],
   "source": [
    "df_students.head()"
   ]
  },
  {
   "cell_type": "code",
   "execution_count": 210,
   "id": "acd6152e",
   "metadata": {},
   "outputs": [
    {
     "name": "stdout",
     "output_type": "stream",
     "text": [
      "\n",
      "Students DF Shape after removing duplicates\n"
     ]
    },
    {
     "data": {
      "text/plain": [
       "(5000, 10)"
      ]
     },
     "execution_count": 210,
     "metadata": {},
     "output_type": "execute_result"
    }
   ],
   "source": [
    "df_students.drop_duplicates()\n",
    "print(\"\\nStudents DF Shape after removing duplicates\")\n",
    "df_students.shape"
   ]
  },
  {
   "cell_type": "code",
   "execution_count": 211,
   "id": "32655dbb",
   "metadata": {},
   "outputs": [
    {
     "data": {
      "text/plain": [
       "uuid                        int64\n",
       "name                       object\n",
       "dob                        object\n",
       "sex                        object\n",
       "mailing_address            object\n",
       "email                      object\n",
       "job_id                      Int64\n",
       "num_course_taken            Int64\n",
       "current_career_path_id      Int64\n",
       "time_spent_hrs            float64\n",
       "dtype: object"
      ]
     },
     "execution_count": 211,
     "metadata": {},
     "output_type": "execute_result"
    }
   ],
   "source": [
    "#change data types in the dataframe\n",
    "\n",
    "df_students = df_students.astype(\n",
    "    {'job_id': 'float64', 'num_course_taken': 'float64', 'current_career_path_id': 'float64', 'time_spent_hrs': 'float64'}\n",
    ")\n",
    "\n",
    "# df_students = df_students.fillna({\n",
    "#     'job_id': None,\n",
    "#     'num_course_taken': None,\n",
    "#     'current_career_path_id': None\n",
    "# })\n",
    "\n",
    "df_students = df_students.astype(\n",
    "    {'job_id': 'Int64', 'num_course_taken': 'Int64', 'current_career_path_id': 'Int64'}\n",
    ")\n",
    "df_students.dtypes"
   ]
  },
  {
   "cell_type": "code",
   "execution_count": 229,
   "id": "6db8fcca",
   "metadata": {},
   "outputs": [
    {
     "data": {
      "text/html": [
       "<div>\n",
       "<style scoped>\n",
       "    .dataframe tbody tr th:only-of-type {\n",
       "        vertical-align: middle;\n",
       "    }\n",
       "\n",
       "    .dataframe tbody tr th {\n",
       "        vertical-align: top;\n",
       "    }\n",
       "\n",
       "    .dataframe thead th {\n",
       "        text-align: right;\n",
       "    }\n",
       "</style>\n",
       "<table border=\"1\" class=\"dataframe\">\n",
       "  <thead>\n",
       "    <tr style=\"text-align: right;\">\n",
       "      <th></th>\n",
       "      <th>uuid</th>\n",
       "      <th>job_id</th>\n",
       "      <th>num_course_taken</th>\n",
       "      <th>current_career_path_id</th>\n",
       "      <th>time_spent_hrs</th>\n",
       "    </tr>\n",
       "  </thead>\n",
       "  <tbody>\n",
       "    <tr>\n",
       "      <th>count</th>\n",
       "      <td>5000.000000</td>\n",
       "      <td>4995.000000</td>\n",
       "      <td>4749.000000</td>\n",
       "      <td>4529.000000</td>\n",
       "      <td>4529.000000</td>\n",
       "    </tr>\n",
       "    <tr>\n",
       "      <th>mean</th>\n",
       "      <td>2500.500000</td>\n",
       "      <td>4.172172</td>\n",
       "      <td>7.533586</td>\n",
       "      <td>5.478914</td>\n",
       "      <td>11.520625</td>\n",
       "    </tr>\n",
       "    <tr>\n",
       "      <th>std</th>\n",
       "      <td>1443.520003</td>\n",
       "      <td>2.148098</td>\n",
       "      <td>4.609884</td>\n",
       "      <td>2.874135</td>\n",
       "      <td>7.564228</td>\n",
       "    </tr>\n",
       "    <tr>\n",
       "      <th>min</th>\n",
       "      <td>1.000000</td>\n",
       "      <td>1.000000</td>\n",
       "      <td>0.000000</td>\n",
       "      <td>1.000000</td>\n",
       "      <td>0.000000</td>\n",
       "    </tr>\n",
       "    <tr>\n",
       "      <th>25%</th>\n",
       "      <td>1250.750000</td>\n",
       "      <td>2.000000</td>\n",
       "      <td>4.000000</td>\n",
       "      <td>3.000000</td>\n",
       "      <td>5.380000</td>\n",
       "    </tr>\n",
       "    <tr>\n",
       "      <th>50%</th>\n",
       "      <td>2500.500000</td>\n",
       "      <td>4.000000</td>\n",
       "      <td>7.000000</td>\n",
       "      <td>5.000000</td>\n",
       "      <td>10.670000</td>\n",
       "    </tr>\n",
       "    <tr>\n",
       "      <th>75%</th>\n",
       "      <td>3750.250000</td>\n",
       "      <td>6.000000</td>\n",
       "      <td>12.000000</td>\n",
       "      <td>8.000000</td>\n",
       "      <td>16.750000</td>\n",
       "    </tr>\n",
       "    <tr>\n",
       "      <th>max</th>\n",
       "      <td>5000.000000</td>\n",
       "      <td>8.000000</td>\n",
       "      <td>15.000000</td>\n",
       "      <td>10.000000</td>\n",
       "      <td>35.980000</td>\n",
       "    </tr>\n",
       "  </tbody>\n",
       "</table>\n",
       "</div>"
      ],
      "text/plain": [
       "              uuid       job_id  num_course_taken  current_career_path_id  \\\n",
       "count  5000.000000  4995.000000       4749.000000             4529.000000   \n",
       "mean   2500.500000     4.172172          7.533586                5.478914   \n",
       "std    1443.520003     2.148098          4.609884                2.874135   \n",
       "min       1.000000     1.000000          0.000000                1.000000   \n",
       "25%    1250.750000     2.000000          4.000000                3.000000   \n",
       "50%    2500.500000     4.000000          7.000000                5.000000   \n",
       "75%    3750.250000     6.000000         12.000000                8.000000   \n",
       "max    5000.000000     8.000000         15.000000               10.000000   \n",
       "\n",
       "       time_spent_hrs  \n",
       "count     4529.000000  \n",
       "mean        11.520625  \n",
       "std          7.564228  \n",
       "min          0.000000  \n",
       "25%          5.380000  \n",
       "50%         10.670000  \n",
       "75%         16.750000  \n",
       "max         35.980000  "
      ]
     },
     "execution_count": 229,
     "metadata": {},
     "output_type": "execute_result"
    }
   ],
   "source": [
    "df_students.describe()"
   ]
  },
  {
   "cell_type": "code",
   "execution_count": 212,
   "id": "8ff714e5",
   "metadata": {},
   "outputs": [
    {
     "data": {
      "text/plain": [
       "uuid                      0.00\n",
       "name                      0.00\n",
       "dob                       0.00\n",
       "sex                       0.00\n",
       "mailing_address           0.00\n",
       "email                     0.00\n",
       "job_id                    0.10\n",
       "num_course_taken          5.02\n",
       "current_career_path_id    9.42\n",
       "time_spent_hrs            9.42\n",
       "dtype: float64"
      ]
     },
     "execution_count": 212,
     "metadata": {},
     "output_type": "execute_result"
    }
   ],
   "source": [
    "## percentage of null values in each column\n",
    "df_students.isna().sum() / len(students_df.index) * 100"
   ]
  },
  {
   "cell_type": "markdown",
   "id": "ac2f726e",
   "metadata": {},
   "source": [
    "###  Import and explore 'cademycode_courses' table"
   ]
  },
  {
   "cell_type": "code",
   "execution_count": 215,
   "id": "24f29ac7",
   "metadata": {},
   "outputs": [],
   "source": [
    "courses_query = \"\"\"SELECT * FROM cademycode_courses\"\"\"\n",
    "df_courses = pd.read_sql_query(courses_query, con)"
   ]
  },
  {
   "cell_type": "code",
   "execution_count": 218,
   "id": "b05a9010",
   "metadata": {},
   "outputs": [
    {
     "name": "stdout",
     "output_type": "stream",
     "text": [
      "Courses DF shape\n"
     ]
    },
    {
     "data": {
      "text/plain": [
       "(10, 3)"
      ]
     },
     "execution_count": 218,
     "metadata": {},
     "output_type": "execute_result"
    }
   ],
   "source": [
    "print('Courses DF shape')\n",
    "df_courses.shape"
   ]
  },
  {
   "cell_type": "code",
   "execution_count": 219,
   "id": "a117c275",
   "metadata": {},
   "outputs": [
    {
     "name": "stdout",
     "output_type": "stream",
     "text": [
      "Courses DF info\n",
      "<class 'pandas.core.frame.DataFrame'>\n",
      "RangeIndex: 10 entries, 0 to 9\n",
      "Data columns (total 3 columns):\n",
      " #   Column             Non-Null Count  Dtype \n",
      "---  ------             --------------  ----- \n",
      " 0   career_path_id     10 non-null     int64 \n",
      " 1   career_path_name   10 non-null     object\n",
      " 2   hours_to_complete  10 non-null     int64 \n",
      "dtypes: int64(2), object(1)\n",
      "memory usage: 368.0+ bytes\n",
      "\n",
      "Courses DF first 10 rows\n"
     ]
    },
    {
     "data": {
      "text/html": [
       "<div>\n",
       "<style scoped>\n",
       "    .dataframe tbody tr th:only-of-type {\n",
       "        vertical-align: middle;\n",
       "    }\n",
       "\n",
       "    .dataframe tbody tr th {\n",
       "        vertical-align: top;\n",
       "    }\n",
       "\n",
       "    .dataframe thead th {\n",
       "        text-align: right;\n",
       "    }\n",
       "</style>\n",
       "<table border=\"1\" class=\"dataframe\">\n",
       "  <thead>\n",
       "    <tr style=\"text-align: right;\">\n",
       "      <th></th>\n",
       "      <th>career_path_id</th>\n",
       "      <th>career_path_name</th>\n",
       "      <th>hours_to_complete</th>\n",
       "    </tr>\n",
       "  </thead>\n",
       "  <tbody>\n",
       "    <tr>\n",
       "      <th>0</th>\n",
       "      <td>1</td>\n",
       "      <td>data scientist</td>\n",
       "      <td>20</td>\n",
       "    </tr>\n",
       "    <tr>\n",
       "      <th>1</th>\n",
       "      <td>2</td>\n",
       "      <td>data engineer</td>\n",
       "      <td>20</td>\n",
       "    </tr>\n",
       "    <tr>\n",
       "      <th>2</th>\n",
       "      <td>3</td>\n",
       "      <td>data analyst</td>\n",
       "      <td>12</td>\n",
       "    </tr>\n",
       "    <tr>\n",
       "      <th>3</th>\n",
       "      <td>4</td>\n",
       "      <td>software engineering</td>\n",
       "      <td>25</td>\n",
       "    </tr>\n",
       "    <tr>\n",
       "      <th>4</th>\n",
       "      <td>5</td>\n",
       "      <td>backend engineer</td>\n",
       "      <td>18</td>\n",
       "    </tr>\n",
       "    <tr>\n",
       "      <th>5</th>\n",
       "      <td>6</td>\n",
       "      <td>frontend engineer</td>\n",
       "      <td>20</td>\n",
       "    </tr>\n",
       "    <tr>\n",
       "      <th>6</th>\n",
       "      <td>7</td>\n",
       "      <td>iOS developer</td>\n",
       "      <td>27</td>\n",
       "    </tr>\n",
       "    <tr>\n",
       "      <th>7</th>\n",
       "      <td>8</td>\n",
       "      <td>android developer</td>\n",
       "      <td>27</td>\n",
       "    </tr>\n",
       "    <tr>\n",
       "      <th>8</th>\n",
       "      <td>9</td>\n",
       "      <td>machine learning engineer</td>\n",
       "      <td>35</td>\n",
       "    </tr>\n",
       "    <tr>\n",
       "      <th>9</th>\n",
       "      <td>10</td>\n",
       "      <td>ux/ui designer</td>\n",
       "      <td>15</td>\n",
       "    </tr>\n",
       "  </tbody>\n",
       "</table>\n",
       "</div>"
      ],
      "text/plain": [
       "   career_path_id           career_path_name  hours_to_complete\n",
       "0               1             data scientist                 20\n",
       "1               2              data engineer                 20\n",
       "2               3               data analyst                 12\n",
       "3               4       software engineering                 25\n",
       "4               5           backend engineer                 18\n",
       "5               6          frontend engineer                 20\n",
       "6               7              iOS developer                 27\n",
       "7               8          android developer                 27\n",
       "8               9  machine learning engineer                 35\n",
       "9              10             ux/ui designer                 15"
      ]
     },
     "execution_count": 219,
     "metadata": {},
     "output_type": "execute_result"
    }
   ],
   "source": [
    "print(\"Courses DF info\")\n",
    "df_courses.info()\n",
    "\n",
    "print(\"\\nCourses DF first 10 rows\")\n",
    "df_courses.head(10)"
   ]
  },
  {
   "cell_type": "code",
   "execution_count": 220,
   "id": "8b6502c1",
   "metadata": {},
   "outputs": [
    {
     "name": "stdout",
     "output_type": "stream",
     "text": [
      "   career_path_id           career_path_name  hours_to_complete\n",
      "0               1             data scientist                 20\n",
      "1               2              data engineer                 20\n",
      "2               3               data analyst                 12\n",
      "3               4       software engineering                 25\n",
      "4               5           backend engineer                 18\n",
      "5               6          frontend engineer                 20\n",
      "6               7              iOS developer                 27\n",
      "7               8          android developer                 27\n",
      "8               9  machine learning engineer                 35\n",
      "9              10             ux/ui designer                 15\n"
     ]
    }
   ],
   "source": [
    "print(df_courses.to_string())"
   ]
  },
  {
   "cell_type": "markdown",
   "id": "255c32cb",
   "metadata": {},
   "source": [
    "###  Import and explore 'cademycode_courses' table"
   ]
  },
  {
   "cell_type": "code",
   "execution_count": 221,
   "id": "8fb74c5f",
   "metadata": {},
   "outputs": [],
   "source": [
    "jobs_query = \"\"\"SELECT * FROM cademycode_student_jobs\"\"\"\n",
    "df_jobs = pd.read_sql_query(jobs_query, con)"
   ]
  },
  {
   "cell_type": "code",
   "execution_count": 222,
   "id": "dcd321f3",
   "metadata": {},
   "outputs": [
    {
     "name": "stdout",
     "output_type": "stream",
     "text": [
      "Jobs DF shape\n"
     ]
    },
    {
     "data": {
      "text/plain": [
       "(13, 3)"
      ]
     },
     "execution_count": 222,
     "metadata": {},
     "output_type": "execute_result"
    }
   ],
   "source": [
    "print('Jobs DF shape')\n",
    "df_jobs.shape"
   ]
  },
  {
   "cell_type": "code",
   "execution_count": 223,
   "id": "9a16c8cf",
   "metadata": {},
   "outputs": [
    {
     "name": "stdout",
     "output_type": "stream",
     "text": [
      "Jobs DF info\n",
      "<class 'pandas.core.frame.DataFrame'>\n",
      "RangeIndex: 13 entries, 0 to 12\n",
      "Data columns (total 3 columns):\n",
      " #   Column        Non-Null Count  Dtype \n",
      "---  ------        --------------  ----- \n",
      " 0   job_id        13 non-null     int64 \n",
      " 1   job_category  13 non-null     object\n",
      " 2   avg_salary    13 non-null     int64 \n",
      "dtypes: int64(2), object(1)\n",
      "memory usage: 440.0+ bytes\n",
      "\n",
      "Jobs DF first 10 rows\n"
     ]
    },
    {
     "data": {
      "text/html": [
       "<div>\n",
       "<style scoped>\n",
       "    .dataframe tbody tr th:only-of-type {\n",
       "        vertical-align: middle;\n",
       "    }\n",
       "\n",
       "    .dataframe tbody tr th {\n",
       "        vertical-align: top;\n",
       "    }\n",
       "\n",
       "    .dataframe thead th {\n",
       "        text-align: right;\n",
       "    }\n",
       "</style>\n",
       "<table border=\"1\" class=\"dataframe\">\n",
       "  <thead>\n",
       "    <tr style=\"text-align: right;\">\n",
       "      <th></th>\n",
       "      <th>job_id</th>\n",
       "      <th>job_category</th>\n",
       "      <th>avg_salary</th>\n",
       "    </tr>\n",
       "  </thead>\n",
       "  <tbody>\n",
       "    <tr>\n",
       "      <th>0</th>\n",
       "      <td>1</td>\n",
       "      <td>analytics</td>\n",
       "      <td>86000</td>\n",
       "    </tr>\n",
       "    <tr>\n",
       "      <th>1</th>\n",
       "      <td>2</td>\n",
       "      <td>engineer</td>\n",
       "      <td>101000</td>\n",
       "    </tr>\n",
       "    <tr>\n",
       "      <th>2</th>\n",
       "      <td>3</td>\n",
       "      <td>software developer</td>\n",
       "      <td>110000</td>\n",
       "    </tr>\n",
       "    <tr>\n",
       "      <th>3</th>\n",
       "      <td>4</td>\n",
       "      <td>creative</td>\n",
       "      <td>66000</td>\n",
       "    </tr>\n",
       "    <tr>\n",
       "      <th>4</th>\n",
       "      <td>5</td>\n",
       "      <td>financial services</td>\n",
       "      <td>135000</td>\n",
       "    </tr>\n",
       "    <tr>\n",
       "      <th>5</th>\n",
       "      <td>6</td>\n",
       "      <td>education</td>\n",
       "      <td>61000</td>\n",
       "    </tr>\n",
       "    <tr>\n",
       "      <th>6</th>\n",
       "      <td>7</td>\n",
       "      <td>HR</td>\n",
       "      <td>80000</td>\n",
       "    </tr>\n",
       "    <tr>\n",
       "      <th>7</th>\n",
       "      <td>8</td>\n",
       "      <td>student</td>\n",
       "      <td>10000</td>\n",
       "    </tr>\n",
       "    <tr>\n",
       "      <th>8</th>\n",
       "      <td>9</td>\n",
       "      <td>healthcare</td>\n",
       "      <td>120000</td>\n",
       "    </tr>\n",
       "    <tr>\n",
       "      <th>9</th>\n",
       "      <td>0</td>\n",
       "      <td>other</td>\n",
       "      <td>80000</td>\n",
       "    </tr>\n",
       "  </tbody>\n",
       "</table>\n",
       "</div>"
      ],
      "text/plain": [
       "   job_id        job_category  avg_salary\n",
       "0       1           analytics       86000\n",
       "1       2            engineer      101000\n",
       "2       3  software developer      110000\n",
       "3       4            creative       66000\n",
       "4       5  financial services      135000\n",
       "5       6           education       61000\n",
       "6       7                  HR       80000\n",
       "7       8             student       10000\n",
       "8       9          healthcare      120000\n",
       "9       0               other       80000"
      ]
     },
     "execution_count": 223,
     "metadata": {},
     "output_type": "execute_result"
    }
   ],
   "source": [
    "print(\"Jobs DF info\")\n",
    "df_jobs.info()\n",
    "\n",
    "print(\"\\nJobs DF first 10 rows\")\n",
    "df_jobs.head(10)"
   ]
  },
  {
   "cell_type": "markdown",
   "id": "000282e3",
   "metadata": {},
   "source": [
    "###  Transforming the data"
   ]
  },
  {
   "cell_type": "code",
   "execution_count": 232,
   "id": "58b79994",
   "metadata": {},
   "outputs": [],
   "source": [
    "df_students_data = df_students.join(df_courses, how=\"left\", lsuffix=\"current_career_path_id\", rsuffix=\"career_path_id\")"
   ]
  },
  {
   "cell_type": "code",
   "execution_count": 234,
   "id": "cac56631",
   "metadata": {},
   "outputs": [],
   "source": [
    "df_students_data = df_students_data.join(df_jobs, how=\"left\", lsuffix=\"job_id\", rsuffix=\"job_id\")"
   ]
  },
  {
   "cell_type": "code",
   "execution_count": null,
   "id": "7950fd7d",
   "metadata": {},
   "outputs": [],
   "source": []
  }
 ],
 "metadata": {
  "kernelspec": {
   "display_name": "Python 3 (ipykernel)",
   "language": "python",
   "name": "python3"
  },
  "language_info": {
   "codemirror_mode": {
    "name": "ipython",
    "version": 3
   },
   "file_extension": ".py",
   "mimetype": "text/x-python",
   "name": "python",
   "nbconvert_exporter": "python",
   "pygments_lexer": "ipython3",
   "version": "3.7.9"
  }
 },
 "nbformat": 4,
 "nbformat_minor": 5
}
